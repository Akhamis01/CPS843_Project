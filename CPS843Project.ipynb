{
 "cells": [
  {
   "cell_type": "code",
   "execution_count": null,
   "metadata": {},
   "outputs": [],
   "source": [
    "import numpy as np\n",
    "from huggingface_hub import from_pretrained_keras\n",
    "import keras\n",
    "from PIL import Image\n",
    "import cv2\n",
    "import math\n",
    "from skimage.metrics import structural_similarity\n",
    "import time\n",
    "import matplotlib.pyplot as plt"
   ]
  },
  {
   "cell_type": "markdown",
   "metadata": {},
   "source": [
    "# ML MODEL"
   ]
  },
  {
   "cell_type": "markdown",
   "metadata": {},
   "source": [
    "## Retrieving Pretrained ML Model"
   ]
  },
  {
   "cell_type": "code",
   "execution_count": null,
   "metadata": {},
   "outputs": [],
   "source": [
    "trainedModel = from_pretrained_keras(\"keras-io/lowlight-enhance-mirnet\", compile=False)"
   ]
  },
  {
   "cell_type": "markdown",
   "metadata": {},
   "source": [
    "## Compress Image to allow for faster processing"
   ]
  },
  {
   "cell_type": "code",
   "execution_count": null,
   "metadata": {},
   "outputs": [],
   "source": [
    "def compressImage(pathToFile, destinationFilePath, outputImgQuality):\n",
    "    originalImg = Image.open(pathToFile).convert('RGB')\n",
    "    originalImgResized = originalImg.resize((256,256), Image.Resampling.LANCZOS)\n",
    "    originalImgResized.save(destinationFilePath, optimize=True, quality=outputImgQuality)\n",
    "\n",
    "    return pathToFile, destinationFilePath\n",
    "\n",
    "pathToOriginalImage, pathToCompressedImage = compressImage(pathToFile='./testImages/testImage.png', destinationFilePath='compressedOriginalImage.jpeg', outputImgQuality=85)"
   ]
  },
  {
   "cell_type": "markdown",
   "metadata": {},
   "source": [
    "## Generate PSNR metric using compressed image"
   ]
  },
  {
   "cell_type": "code",
   "execution_count": null,
   "metadata": {},
   "outputs": [],
   "source": [
    "def PSNR(originalImgPath, compressedImgPath): \n",
    "    originalImg = cv2.imread(originalImgPath)\n",
    "    originalImg = cv2.resize(originalImg, (256, 256))\n",
    "    compressedImg = cv2.imread(compressedImgPath, 1) \n",
    "\n",
    "    mse = np.mean((originalImg - compressedImg) ** 2) \n",
    "    if(mse == 0):\n",
    "        return 100\n",
    "    \n",
    "    max_pixel = 255.0\n",
    "    psnrMetric = 20 * math.log10(max_pixel / math.sqrt(mse))\n",
    "\n",
    "    if psnrMetric < 40:\n",
    "        print('PSNR metric is less than 40 dB, please use another image.')\n",
    "\n",
    "    return psnrMetric\n",
    "\n",
    "PSNRValue = PSNR(pathToOriginalImage, pathToCompressedImage)\n",
    "print(f\"PSNR value is {PSNRValue} dB\")\n"
   ]
  },
  {
   "cell_type": "markdown",
   "metadata": {},
   "source": [
    "## Opening and preparing low-light image for processing"
   ]
  },
  {
   "cell_type": "code",
   "execution_count": null,
   "metadata": {},
   "outputs": [],
   "source": [
    "def prepareImageForProcessing(filePath):\n",
    "\n",
    "    lowLightImg = Image.open(filePath).convert('RGB')\n",
    "    lowLightImgResized = lowLightImg.resize((256,256),Image.NEAREST)\n",
    "\n",
    "    imageToArray = keras.preprocessing.image.img_to_array(lowLightImgResized)\n",
    "    imageToArray = imageToArray.astype('float32') / 255.0\n",
    "    imageToArray = np.expand_dims(imageToArray, axis = 0)\n",
    "    return imageToArray\n",
    "\n",
    "lowLightImgArray = prepareImageForProcessing(filePath=pathToOriginalImage)"
   ]
  },
  {
   "cell_type": "markdown",
   "metadata": {},
   "source": [
    "## Process image using pretrained model"
   ]
  },
  {
   "cell_type": "code",
   "execution_count": null,
   "metadata": {},
   "outputs": [],
   "source": [
    "def enhanceImageUsingModel(trainedModel, lowLightImgArray):\n",
    "    processedImage = trainedModel.predict(lowLightImgArray)\n",
    "    outputImg = processedImage[0] * 255.0\n",
    "    outputImg = outputImg.clip(0,255).reshape((np.shape(outputImg)[0],np.shape(outputImg)[1],3))\n",
    "    outputImg = np.uint32(outputImg)\n",
    "    displayOutputImage = Image.fromarray(outputImg.astype('uint8'),'RGB')\n",
    "\n",
    "    return outputImg, displayOutputImage\n",
    "\n",
    "outputImg, displayOutputImage = enhanceImageUsingModel(trainedModel, lowLightImgArray)"
   ]
  },
  {
   "cell_type": "markdown",
   "metadata": {},
   "source": [
    "# Prepare image comparison algorithm"
   ]
  },
  {
   "cell_type": "code",
   "execution_count": null,
   "metadata": {},
   "outputs": [],
   "source": [
    "def prepareImageComparison(outputImg, originalImgFileName, newImgFileName):\n",
    "    beforeImg = Image.open(pathToOriginalImage).convert('RGB')\n",
    "\n",
    "    Image.fromarray(outputImg.astype('uint8'),'RGB').save(f'{newImgFileName}.png')\n",
    "    afterImg = Image.open(f'./{newImgFileName}.png').convert('RGB')\n",
    "    newImageWidth, newImageHeight = afterImg.size\n",
    "\n",
    "    beforeImg = beforeImg.resize((newImageWidth, newImageHeight),Image.NEAREST).save(f'{originalImgFileName}.png')\n",
    "    afterImg = afterImg.resize((newImageWidth, newImageHeight),Image.NEAREST).save(f'{newImgFileName}.png')\n",
    "\n",
    "    return originalImgFileName, newImgFileName\n",
    "\n",
    "originalImgFileName, newImgFileName = prepareImageComparison(outputImg, 'originalImg', 'enhancedImg')"
   ]
  },
  {
   "cell_type": "markdown",
   "metadata": {},
   "source": [
    "## Use Structural Similarity Index (SSI) to compare original and enhanced image"
   ]
  },
  {
   "cell_type": "code",
   "execution_count": null,
   "metadata": {},
   "outputs": [],
   "source": [
    "def generateSSIMetrics(displayDiff, originalImgFileName, newImgFileName):\n",
    "    before = cv2.imread(f'./{originalImgFileName}.png')\n",
    "    after = cv2.imread(f'./{newImgFileName}.png')\n",
    "\n",
    "    # Convert images to grayscale\n",
    "    originalGrayScale = cv2.cvtColor(before, cv2.COLOR_BGR2GRAY)\n",
    "    enhancedGrayScale = cv2.cvtColor(after, cv2.COLOR_BGR2GRAY)\n",
    "\n",
    "    (SSIMScore, diff) = structural_similarity(originalGrayScale, enhancedGrayScale, full=True)\n",
    "    print(\"Image similarity: \", SSIMScore)\n",
    "\n",
    "    if displayDiff:\n",
    "        diff = (diff * 255).astype(\"uint8\")\n",
    "        thresh = cv2.threshold(diff, 0, 255, cv2.THRESH_BINARY_INV | cv2.THRESH_OTSU)[1]\n",
    "        contours = cv2.findContours(thresh.copy(), cv2.RETR_EXTERNAL, cv2.CHAIN_APPROX_SIMPLE)\n",
    "        contours = contours[0] if len(contours) == 2 else contours[1]\n",
    "\n",
    "        mask = np.zeros(before.shape, dtype='uint8')\n",
    "        filled_after = after.copy()\n",
    "\n",
    "        for c in contours:\n",
    "            area = cv2.contourArea(c)\n",
    "            if area > 40:\n",
    "                x,y,w,h = cv2.boundingRect(c)\n",
    "                cv2.rectangle(before, (x, y), (x + w, y + h), (36,255,12), 2)\n",
    "                cv2.rectangle(after, (x, y), (x + w, y + h), (36,255,12), 2)\n",
    "                cv2.drawContours(mask, [c], 0, (0,255,0), -1)\n",
    "                cv2.drawContours(filled_after, [c], 0, (0,255,0), -1)\n",
    "\n",
    "        cv2.startWindowThread()\n",
    "        cv2.imshow('Original Image', before)\n",
    "        cv2.imshow('Enhanced Image', after)\n",
    "        cv2.imshow('Differences',diff)\n",
    "        cv2.imshow('Mask',mask)\n",
    "        cv2.imshow('Filled Enhanced Image',filled_after)\n",
    "        cv2.waitKey(0)\n",
    "        cv2.destroyAllWindows()\n",
    "\n",
    "generateSSIMetrics(displayDiff=True, originalImgFileName=originalImgFileName, newImgFileName=newImgFileName)"
   ]
  },
  {
   "cell_type": "markdown",
   "metadata": {},
   "source": [
    "# Display Histograms"
   ]
  },
  {
   "cell_type": "code",
   "execution_count": null,
   "metadata": {},
   "outputs": [],
   "source": [
    "def plotHistogram(image, title):\n",
    "    plt.hist(image.ravel(), bins=256, range=(0, 256), density=True, color='gray', alpha=0.7)\n",
    "    plt.title(f'{title}')\n",
    "    plt.xlabel('Pixel Value')\n",
    "    plt.ylabel('Frequency')\n",
    "    plt.show()\n",
    "\n",
    "\n",
    "originalImage = cv2.imread(f'./{originalImgFileName}.png')\n",
    "enhancedImage = cv2.imread(f'./{newImgFileName}.png')\n",
    "\n",
    "plotHistogram(originalImage, f'Histogram for original image')\n",
    "plotHistogram(enhancedImage, f'Histogram for enhanced image')\n",
    "\n",
    "img_rgb = cv2.cvtColor(originalImage, cv2.COLOR_BGR2RGB)\n",
    "equalized_channels = [cv2.equalizeHist(channel) for channel in cv2.split(img_rgb)]\n",
    "equalized_img = cv2.merge(equalized_channels)\n",
    "\n",
    "plotHistogram(equalized_img, f'Histogram for equalized image')"
   ]
  },
  {
   "cell_type": "markdown",
   "metadata": {},
   "source": [
    "## Display Images with Histogram Equalization"
   ]
  },
  {
   "cell_type": "code",
   "execution_count": null,
   "metadata": {},
   "outputs": [],
   "source": [
    "img_rgb = cv2.cvtColor(originalImage, cv2.COLOR_BGR2RGB)\n",
    "equalized_channels = [cv2.equalizeHist(channel) for channel in cv2.split(img_rgb)]\n",
    "equalized_img = cv2.merge(equalized_channels)\n",
    "\n",
    "plotHistogram(equalized_img, f'Histogram for equalized image')\n",
    "\n",
    "cv2.imshow('Enhanced Image', equalized_img)\n",
    "cv2.waitKey(0)\n",
    "cv2.destroyAllWindows()"
   ]
  },
  {
   "cell_type": "markdown",
   "metadata": {},
   "source": [
    "## Display luminance Histogram"
   ]
  },
  {
   "cell_type": "code",
   "execution_count": null,
   "metadata": {},
   "outputs": [],
   "source": [
    "original = cv2.cvtColor(originalImage, cv2.COLOR_BGR2RGB)\n",
    "hist, bins = np.histogram(original.flatten(), bins=256, range=[0,256])\n",
    "\n",
    "# Plot the histogram\n",
    "plt.plot(hist, color='black')\n",
    "plt.xlabel('Pixel Value')\n",
    "plt.ylabel('Frequency')\n",
    "plt.title('Luminance Histogram for Original Image')\n",
    "plt.show()\n",
    "\n",
    "\n",
    "enhanced = cv2.cvtColor(enhancedImage, cv2.COLOR_BGR2RGB)\n",
    "hist, bins = np.histogram(enhanced.flatten(), bins=256, range=[0,256])\n",
    "\n",
    "# Plot the histogram\n",
    "plt.plot(hist, color='black')\n",
    "plt.xlabel('Pixel Value')\n",
    "plt.ylabel('Frequency')\n",
    "plt.title('Luminance Histogram for Enhanced Image')\n",
    "plt.show()"
   ]
  }
 ],
 "metadata": {
  "kernelspec": {
   "display_name": "venv",
   "language": "python",
   "name": "python3"
  },
  "language_info": {
   "codemirror_mode": {
    "name": "ipython",
    "version": 3
   },
   "file_extension": ".py",
   "mimetype": "text/x-python",
   "name": "python",
   "nbconvert_exporter": "python",
   "pygments_lexer": "ipython3",
   "version": "3.9.6"
  }
 },
 "nbformat": 4,
 "nbformat_minor": 2
}
